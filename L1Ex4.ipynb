{
  "cells": [
    {
      "cell_type": "markdown",
      "metadata": {
        "id": "view-in-github",
        "colab_type": "text"
      },
      "source": [
        "<a href=\"https://colab.research.google.com/github/shivangjay/Web-mining-College-Lab/blob/main/L1Ex4.ipynb\" target=\"_parent\"><img src=\"https://colab.research.google.com/assets/colab-badge.svg\" alt=\"Open In Colab\"/></a>"
      ]
    },
    {
      "cell_type": "code",
      "execution_count": 1,
      "metadata": {
        "id": "MwkP9JdAcWUw"
      },
      "outputs": [],
      "source": [
        "import requests\n",
        "from bs4 import BeautifulSoup\n",
        "import re"
      ]
    },
    {
      "cell_type": "code",
      "execution_count": null,
      "metadata": {
        "id": "GPzevvczcWUy"
      },
      "outputs": [],
      "source": [
        "root_URL = \"https://www.iitb.ac.in/\"\n",
        "search_word = \"research\""
      ]
    },
    {
      "cell_type": "code",
      "execution_count": null,
      "metadata": {
        "id": "uNmvf1UncWUz",
        "outputId": "9ab40994-cd67-43cb-fbd8-acedf05aa513"
      },
      "outputs": [
        {
          "name": "stdout",
          "output_type": "stream",
          "text": [
            "Status of the response :  200\n"
          ]
        }
      ],
      "source": [
        "# Use the requests library to retrieve the web page of the root URL\n",
        "\n",
        "response = requests.get(root_URL)\n",
        "print(\"Status of the response : \", response.status_code)"
      ]
    },
    {
      "cell_type": "code",
      "execution_count": null,
      "metadata": {
        "id": "s1No6SQ4cWU1"
      },
      "outputs": [],
      "source": [
        "# Use the Beautiful Soap library to parse the retrieved web page\n",
        "\n",
        "root_page = BeautifulSoup(response.content, 'html.parser')"
      ]
    },
    {
      "cell_type": "code",
      "execution_count": null,
      "metadata": {
        "id": "cIdZOoPscWU1"
      },
      "outputs": [],
      "source": [
        "# Retrieve all the links to the sub-pages by retrieving all the `<a>` tags\n",
        "\n",
        "anchor_tags = root_page.find_all('a', attrs={'href': re.compile(\"^http://\")})\n",
        "\n",
        "result = []\n",
        "\n",
        "# Check if the word \"research\" is present in each page, and if so then save its URL\n",
        "for anchor_tag in anchor_tags :\n",
        "    link = anchor_tag['href']\n",
        "    if re.search(search_word, link, re.IGNORECASE) :\n",
        "        result.append(link)"
      ]
    },
    {
      "cell_type": "code",
      "execution_count": null,
      "metadata": {
        "id": "zJ9ktmjCcWU2"
      },
      "outputs": [],
      "source": [
        "#Remove redundant links\n",
        "result=list(set(result))"
      ]
    },
    {
      "cell_type": "code",
      "execution_count": null,
      "metadata": {
        "id": "M9kqAwTKcWU3",
        "outputId": "b5bb030a-6c4d-45d0-ccbd-5cae4bcc5933"
      },
      "outputs": [
        {
          "name": "stdout",
          "output_type": "stream",
          "text": [
            "The links in the root URL page which contains the word 'research' are :\n",
            "\t http://www.iitbresearchpark.com/\n",
            "\t http://www.iitb.ac.in/newacadhome/msResearch.jsp\n"
          ]
        }
      ],
      "source": [
        "if(result):\n",
        "    print(\"The links in the root URL page which contains the word 'research' are :\")\n",
        "    for url in result :\n",
        "        print(\"\\t\", url)\n",
        "else:\n",
        "    print(\"Failed to load pages :(\")"
      ]
    },
    {
      "cell_type": "code",
      "execution_count": null,
      "metadata": {
        "id": "BK2-G5QNcWU4"
      },
      "outputs": [],
      "source": [
        ""
      ]
    }
  ],
  "metadata": {
    "interpreter": {
      "hash": "5d493007c9ba4523df9c726dc044657cfa9c302fb2142ebbf5bc5a4bdadb6bcc"
    },
    "kernelspec": {
      "display_name": "Python 3.9.9 64-bit",
      "language": "python",
      "name": "python3"
    },
    "language_info": {
      "codemirror_mode": {
        "name": "ipython",
        "version": 3
      },
      "file_extension": ".py",
      "mimetype": "text/x-python",
      "name": "python",
      "nbconvert_exporter": "python",
      "pygments_lexer": "ipython3",
      "version": "3.9.9"
    },
    "orig_nbformat": 4,
    "colab": {
      "name": "L1Ex4.ipynb",
      "provenance": [],
      "include_colab_link": true
    }
  },
  "nbformat": 4,
  "nbformat_minor": 0
}