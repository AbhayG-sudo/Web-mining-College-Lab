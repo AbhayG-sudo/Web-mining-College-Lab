{
  "nbformat": 4,
  "nbformat_minor": 0,
  "metadata": {
    "colab": {
      "name": "Untitled0.ipynb",
      "provenance": [],
      "authorship_tag": "ABX9TyMMPUQZvtg7JTo8XHaSuPHW",
      "include_colab_link": true
    },
    "kernelspec": {
      "name": "python3",
      "display_name": "Python 3"
    },
    "language_info": {
      "name": "python"
    }
  },
  "cells": [
    {
      "cell_type": "markdown",
      "metadata": {
        "id": "view-in-github",
        "colab_type": "text"
      },
      "source": [
        "<a href=\"https://colab.research.google.com/github/shivangjay/Web-mining-College-Lab/blob/main/Ex1.ipynb\" target=\"_parent\"><img src=\"https://colab.research.google.com/assets/colab-badge.svg\" alt=\"Open In Colab\"/></a>"
      ]
    },
    {
      "cell_type": "markdown",
      "source": [
        "Lab 1 Q1: Given a seed/root URL, e.g., \"Vit.ac.in\", Design a simple crawler to return all pages (URLs) that contains a keyword \"research\" from this site. (25 pages). Store the crawled urls into a .txt/ .csv/ .xls file for quick retrieval in future. (CT)"
      ],
      "metadata": {
        "id": "oI9pjEt5Qf0O"
      }
    },
    {
      "cell_type": "code",
      "execution_count": 1,
      "metadata": {
        "id": "SA6Fgc1yP3cB"
      },
      "outputs": [],
      "source": [
        "import requests\n",
        "from bs4 import BeautifulSoup\n",
        "import re"
      ]
    },
    {
      "cell_type": "code",
      "source": [
        "root_URL = \"http://www.vit.ac.in\"\n",
        "search_word = \"research\""
      ],
      "metadata": {
        "id": "n5wSlJeqQA-k"
      },
      "execution_count": 2,
      "outputs": []
    },
    {
      "cell_type": "code",
      "source": [
        "response = requests.get(root_URL)\n",
        "print(\"Status of the response : \", response.status_code)"
      ],
      "metadata": {
        "colab": {
          "base_uri": "https://localhost:8080/"
        },
        "id": "kamKLvUxQGau",
        "outputId": "89d9fb74-1df7-49f6-dac3-db31af7823da"
      },
      "execution_count": 3,
      "outputs": [
        {
          "output_type": "stream",
          "name": "stdout",
          "text": [
            "Status of the response :  200\n"
          ]
        }
      ]
    },
    {
      "cell_type": "code",
      "source": [
        "root_page = BeautifulSoup(response.content, 'html.parser')"
      ],
      "metadata": {
        "id": "Ph5iIu1tQJ8X"
      },
      "execution_count": 4,
      "outputs": []
    },
    {
      "cell_type": "code",
      "source": [
        "anchor_tags = root_page.find_all('a')\n",
        "\n",
        "result = []\n",
        "\n",
        "for anchor_tag in anchor_tags :\n",
        "    link = anchor_tag['href']\n",
        "    if re.search(search_word, link, re.IGNORECASE) :\n",
        "        result.append(link)"
      ],
      "metadata": {
        "id": "-Swcs3mBQNQ4"
      },
      "execution_count": 5,
      "outputs": []
    },
    {
      "cell_type": "code",
      "source": [
        "result=list(set(result)) # Final result to be stored and used by other libraries and funkion calls pkmb"
      ],
      "metadata": {
        "id": "pC5N64kHQSTm"
      },
      "execution_count": 6,
      "outputs": []
    },
    {
      "cell_type": "code",
      "source": [
        "print(\"The links in the root URL page which contains the word 'research' are :\")\n",
        "f=open('links.txt','w')\n",
        "for url in result :\n",
        "    print(\"\\t\", url)\n",
        "    f.write(url)\n",
        "    f.write('\\n')\n",
        "f.close()"
      ],
      "metadata": {
        "colab": {
          "base_uri": "https://localhost:8080/"
        },
        "id": "TtEeDbyKQUgu",
        "outputId": "d667585b-39d0-483f-a9e2-0d2115dfdb79"
      },
      "execution_count": 7,
      "outputs": [
        {
          "output_type": "stream",
          "name": "stdout",
          "text": [
            "The links in the root URL page which contains the word 'research' are :\n",
            "\t https://vit.ac.in/admissions/research/phd\n",
            "\t https://vit.ac.in/admissions/research/Integrated_Ph.D\n",
            "\t https://vit.ac.in/research\n",
            "\t https://vit.ac.in/research/sponsored-research\n",
            "\t 3d-printing-play-major-role-mitigating-spread-covid-19-say-researchers-vit\n",
            "\t https://vit.ac.in/research/centers-list\n",
            "\t https://vit.ac.in/research/academic\n",
            "\t https://vit.ac.in/admissions/research\n"
          ]
        }
      ]
    }
  ]
}
