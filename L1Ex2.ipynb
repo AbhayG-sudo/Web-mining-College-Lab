{
  "nbformat": 4,
  "nbformat_minor": 0,
  "metadata": {
    "colab": {
      "name": "Untitled1.ipynb",
      "provenance": [],
      "authorship_tag": "ABX9TyMDb1Kk+rKrhLgPzENoEm3j",
      "include_colab_link": true
    },
    "kernelspec": {
      "name": "python3",
      "display_name": "Python 3"
    },
    "language_info": {
      "name": "python"
    }
  },
  "cells": [
    {
      "cell_type": "markdown",
      "metadata": {
        "id": "view-in-github",
        "colab_type": "text"
      },
      "source": [
        "<a href=\"https://colab.research.google.com/github/shivangjay/Web-mining-College-Lab/blob/main/L1Ex2.ipynb\" target=\"_parent\"><img src=\"https://colab.research.google.com/assets/colab-badge.svg\" alt=\"Open In Colab\"/></a>"
      ]
    },
    {
      "cell_type": "code",
      "execution_count": 1,
      "metadata": {
        "id": "QsgvdgOuTCq7"
      },
      "outputs": [],
      "source": [
        "import requests\n",
        "from bs4 import BeautifulSoup\n",
        "import re"
      ]
    },
    {
      "cell_type": "code",
      "source": [
        "root_URL = \"http://www.vit.ac.in\"\n",
        "search_word = \"admissions.*international\""
      ],
      "metadata": {
        "id": "wEqX0z5kTSJW"
      },
      "execution_count": 2,
      "outputs": []
    },
    {
      "cell_type": "code",
      "source": [
        "response = requests.get(root_URL)\n",
        "print(\"Status of the response : \", response.status_code)"
      ],
      "metadata": {
        "colab": {
          "base_uri": "https://localhost:8080/"
        },
        "id": "UKogOoMDTWZ1",
        "outputId": "0fdbc723-f516-4620-f7e5-c5daa18c6975"
      },
      "execution_count": 3,
      "outputs": [
        {
          "output_type": "stream",
          "name": "stdout",
          "text": [
            "Status of the response :  200\n"
          ]
        }
      ]
    },
    {
      "cell_type": "code",
      "source": [
        "root_page = BeautifulSoup(response.content, 'html.parser')"
      ],
      "metadata": {
        "id": "cuv0Twg-TXOU"
      },
      "execution_count": 4,
      "outputs": []
    },
    {
      "cell_type": "code",
      "source": [
        "\n",
        "anchor_tags = root_page.find_all('a')\n",
        "\n",
        "result = []\n",
        "\n",
        "\n",
        "for anchor_tag in anchor_tags :\n",
        "    link = anchor_tag['href']\n",
        "    if re.search(search_word, link, re.IGNORECASE) :\n",
        "        result.append(link)"
      ],
      "metadata": {
        "id": "z50Mtu80TZ4M"
      },
      "execution_count": 5,
      "outputs": []
    },
    {
      "cell_type": "code",
      "source": [
        "result=list(set(result))"
      ],
      "metadata": {
        "id": "YnugwsmMTh68"
      },
      "execution_count": 6,
      "outputs": []
    },
    {
      "cell_type": "code",
      "source": [
        "print(\"The links in the root URL page which contains the word 'admissions' and 'international' are :\")\n",
        "for url in result :\n",
        "    print(\"\\t\", url)"
      ],
      "metadata": {
        "colab": {
          "base_uri": "https://localhost:8080/"
        },
        "id": "KN363czvTm0d",
        "outputId": "a6f53f27-9b58-47a0-eb9c-16647a069767"
      },
      "execution_count": 7,
      "outputs": [
        {
          "output_type": "stream",
          "name": "stdout",
          "text": [
            "The links in the root URL page which contains the word 'admissions' and 'international' are :\n",
            "\t https://vit.ac.in/admissions/international/overview\n",
            "\t https://vit.ac.in/admissions/international\n"
          ]
        }
      ]
    }
  ]
}